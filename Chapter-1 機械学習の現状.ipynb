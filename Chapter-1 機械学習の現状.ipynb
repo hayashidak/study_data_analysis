{
 "cells": [
  {
   "cell_type": "markdown",
   "metadata": {},
   "source": [
    "# scikit-learnとTensorFlowによる実践機械学習"
   ]
  },
  {
   "cell_type": "markdown",
   "metadata": {},
   "source": [
    "## 機械学習システムのタイプ\n",
    "- 人間の関与の下で訓練されるかどうか（教師有、教師無、半教師有、半教師無、強化学習）\n",
    "- その場で少しずつ学習するか（オンライン、バッチ）\n",
    "- 新規と既存のデータ比較か、科学者のようにデータからパターンを見つけてモデル構築するか（インスタンスベース、モデルベース）\n",
    "\n",
    "### 教師有\n",
    "- 予測と回帰：k近傍、線形回帰、ロジスティック、SVM、決定技、RF、NN\n",
    "\n",
    "### 教師無\n",
    "- クラスタリング（k平均、階層型クラスタ分析、EMアルゴリズム）\n",
    "- 可視化と次元削減（PCA、カーネルPCA、LLE、t-SNE）\n",
    "- 相関ルール学習（アプリオリ、eclat）\n",
    "- 異常検知\n",
    "\n",
    "### 半教師有学習\n",
    "教師有＋教師無の組み合わせ\n",
    "\n",
    "### 強化学習\n",
    "環境（エージェント）を観察し、行動を実行し報酬を得る。方策によりエージェントは学習し、時間の経過につれ高い報酬を得られるようになる。"
   ]
  },
  {
   "cell_type": "code",
   "execution_count": null,
   "metadata": {},
   "outputs": [],
   "source": []
  },
  {
   "cell_type": "code",
   "execution_count": null,
   "metadata": {},
   "outputs": [],
   "source": []
  },
  {
   "cell_type": "code",
   "execution_count": null,
   "metadata": {},
   "outputs": [],
   "source": []
  },
  {
   "cell_type": "code",
   "execution_count": null,
   "metadata": {},
   "outputs": [],
   "source": []
  },
  {
   "cell_type": "code",
   "execution_count": null,
   "metadata": {},
   "outputs": [],
   "source": []
  },
  {
   "cell_type": "code",
   "execution_count": null,
   "metadata": {},
   "outputs": [],
   "source": []
  },
  {
   "cell_type": "code",
   "execution_count": null,
   "metadata": {},
   "outputs": [],
   "source": []
  }
 ],
 "metadata": {
  "kernelspec": {
   "display_name": "Python 3",
   "language": "python",
   "name": "python3"
  },
  "language_info": {
   "codemirror_mode": {
    "name": "ipython",
    "version": 3
   },
   "file_extension": ".py",
   "mimetype": "text/x-python",
   "name": "python",
   "nbconvert_exporter": "python",
   "pygments_lexer": "ipython3",
   "version": "3.7.3"
  }
 },
 "nbformat": 4,
 "nbformat_minor": 2
}
